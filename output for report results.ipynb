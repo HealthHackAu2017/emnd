{
 "cells": [
  {
   "cell_type": "code",
   "execution_count": 426,
   "metadata": {
    "collapsed": true
   },
   "outputs": [],
   "source": [
    "%matplotlib inline\n",
    "import pandas as pd\n",
    "import numpy as np\n",
    "import matplotlib.pyplot as plt\n",
    "#from django.db import models\n",
    "#from pygments.lexers import get_all_lexers\n",
    "#from pygments.styles import get_all_styles "
   ]
  },
  {
   "cell_type": "code",
   "execution_count": 427,
   "metadata": {
    "collapsed": true
   },
   "outputs": [],
   "source": [
    "sampleData = pd.read_csv('SimulatedInputdata -5Nov.csv')"
   ]
  },
  {
   "cell_type": "code",
   "execution_count": 428,
   "metadata": {
    "collapsed": true
   },
   "outputs": [],
   "source": [
    "#Change DateofForm into datetime format\n",
    "sampleData.DateofForm = pd.to_datetime(sampleData.DateofForm)"
   ]
  },
  {
   "attachments": {},
   "cell_type": "markdown",
   "metadata": {},
   "source": [
    "# Column assumptions\n",
    "  - user_id = patient ID\n",
    "  - submission_date = Date the form was submitted\n",
    "  - D18 = weight\n",
    "### Mental Health\n",
    "  - D20a = Depression\n",
    "  - D20b = Anxiety\n",
    "  - D20c = Enthusiasm\n",
    "  - D20d = Mental Fatigue\n",
    "### Saliva and swallowing\n",
    "  - D21a  = Saliva\n",
    "  - D21b = Food variety\n",
    "  - D21c = Food texture\n",
    "  - D21d = Amount of food consumed\n",
    "  - D21e = Supplements\n",
    "  - D21f = Ability to swallow\n",
    "### Breathing\n",
    "  - D22a = Overall Breathing\n",
    "  - D22b = Shortness of breath \n",
    "  - D22c = Breathing while lying flat\n",
    "### Appetite and digestive health\n",
    "  - D23a = Appetite\n",
    "  - D23b = Nausea\n",
    "  - D23c = Bloating/Gas\n",
    "  - D23d = Constipation\n",
    "### Physical\n",
    "\n",
    "  - D24\tLEFT ARM\n",
    "  - D24a\tTwitching\n",
    "  - D24b\tCramping\n",
    "  - D24c\tWeakness\n",
    "  - D24d\tStiffness\n",
    "  - D24e\tPain\n",
    "  - D24f\tPhysical Fatigue\n",
    "  - D24g\tWasting\n",
    "  \n",
    "  - D25\tRIGHT ARM\n",
    "  - D25a\tTwitching\n",
    "  - D25b\tCramping\n",
    "  - D25c\tWeakness\n",
    "  - D25d\tStiffness\n",
    "  - D25e\tPain\n",
    "  - D25f\tPhysical Fatigue\n",
    "  - D25g\tWasting\n",
    "  \n",
    "  - D26\tLEFT LEG\n",
    "  - D26a\tTwitching\n",
    "  - D26b\tCramping\n",
    "  - D26c\tWeakness\n",
    "  - D26d\tStiffness\n",
    "  - D26e\tPain\n",
    "  - D26f\tPhysical Fatigue\n",
    "  - D26g\tWasting\n",
    "\n",
    "  - D27\tRIGHT LEG\n",
    "  - D27a\tTwitching\n",
    "  - D27b\tCramping\n",
    "  - D27c\tWeakness\n",
    "  - D27d\tStiffness\n",
    "  - D27e\tPain\n",
    "  - D27f\tPhysical Fatigue\n",
    "  - D27g\tWasting\n",
    "  \n",
    "  - D28\tTORSO\n",
    "  - D28a\tTwitching\n",
    "  - D28b\tCramping\n",
    "  - D28c\tWeakness\n",
    "  - D28d\tStiffness\n",
    "  - D28e\tPain\n",
    "  - D28f\tPhysical Fatigue\n",
    "  - D28g\tWasting"
   ]
  },
  {
   "cell_type": "code",
   "execution_count": 442,
   "metadata": {},
   "outputs": [],
   "source": [
    "# RETRIEVE INFORMATINO FOR PATIENT X NEEDS TO BE CHANGED TO FORM INPUT\n",
    "patient = data['user_id']\n",
    "patient_results = sampleData[sampleData['D3'] == patient]"
   ]
  },
  {
   "cell_type": "code",
   "execution_count": 430,
   "metadata": {
    "collapsed": true
   },
   "outputs": [],
   "source": [
    "data = {'id': 10, 'submission_date': '2017-11-05T03:47:25.239057Z', 'd21e': 1, 'd21c': 1, 'd20b': 1, 'd21a': 1, 'd20c': 1, \n",
    "        'user_id': 1, 'd21b': 1, 'd20a': 1, 'd20d': 1, 'd22a': 1, 'd21f': 1, 'd22c': 0, 'd21d': 1}\n"
   ]
  },
  {
   "cell_type": "code",
   "execution_count": 431,
   "metadata": {},
   "outputs": [
    {
     "data": {
      "text/plain": [
       "dict"
      ]
     },
     "execution_count": 431,
     "metadata": {},
     "output_type": "execute_result"
    }
   ],
   "source": [
    "type(data)"
   ]
  },
  {
   "cell_type": "code",
   "execution_count": 432,
   "metadata": {},
   "outputs": [],
   "source": [
    "#patient_results = pd.DataFrame(data.items(), columns=['submission_date','d21e', 'd21c',\n",
    "#                                                     'd20b', 'd21a', 'd20c',\n",
    "#                                                     'user_id', 'd21b', 'd20a', 'd20d', 'd22a', 'id',\n",
    "#                                                     'd21f', 'd22c', 'd21d'])\n",
    "\n",
    "patient_results = pd.DataFrame([data])"
   ]
  },
  {
   "cell_type": "code",
   "execution_count": 433,
   "metadata": {},
   "outputs": [
    {
     "data": {
      "text/html": [
       "<div>\n",
       "<style>\n",
       "    .dataframe thead tr:only-child th {\n",
       "        text-align: right;\n",
       "    }\n",
       "\n",
       "    .dataframe thead th {\n",
       "        text-align: left;\n",
       "    }\n",
       "\n",
       "    .dataframe tbody tr th {\n",
       "        vertical-align: top;\n",
       "    }\n",
       "</style>\n",
       "<table border=\"1\" class=\"dataframe\">\n",
       "  <thead>\n",
       "    <tr style=\"text-align: right;\">\n",
       "      <th></th>\n",
       "      <th>d20a</th>\n",
       "      <th>d20b</th>\n",
       "      <th>d20c</th>\n",
       "      <th>d20d</th>\n",
       "      <th>d21a</th>\n",
       "      <th>d21b</th>\n",
       "      <th>d21c</th>\n",
       "      <th>d21d</th>\n",
       "      <th>d21e</th>\n",
       "      <th>d21f</th>\n",
       "      <th>d22a</th>\n",
       "      <th>d22c</th>\n",
       "      <th>id</th>\n",
       "      <th>submission_date</th>\n",
       "      <th>user_id</th>\n",
       "    </tr>\n",
       "  </thead>\n",
       "  <tbody>\n",
       "    <tr>\n",
       "      <th>0</th>\n",
       "      <td>1</td>\n",
       "      <td>1</td>\n",
       "      <td>1</td>\n",
       "      <td>1</td>\n",
       "      <td>1</td>\n",
       "      <td>1</td>\n",
       "      <td>1</td>\n",
       "      <td>1</td>\n",
       "      <td>1</td>\n",
       "      <td>1</td>\n",
       "      <td>1</td>\n",
       "      <td>0</td>\n",
       "      <td>10</td>\n",
       "      <td>2017-11-05T03:47:25.239057Z</td>\n",
       "      <td>1</td>\n",
       "    </tr>\n",
       "  </tbody>\n",
       "</table>\n",
       "</div>"
      ],
      "text/plain": [
       "   d20a  d20b  d20c  d20d  d21a  d21b  d21c  d21d  d21e  d21f  d22a  d22c  id  \\\n",
       "0     1     1     1     1     1     1     1     1     1     1     1     0  10   \n",
       "\n",
       "               submission_date  user_id  \n",
       "0  2017-11-05T03:47:25.239057Z        1  "
      ]
     },
     "execution_count": 433,
     "metadata": {},
     "output_type": "execute_result"
    }
   ],
   "source": [
    "patient_results"
   ]
  },
  {
   "cell_type": "code",
   "execution_count": 437,
   "metadata": {},
   "outputs": [],
   "source": [
    "# DEFINING LATEST INPUT AND LAST INPUT - NEEDS TO BE CHANGED TO FORM INPUT\n",
    "today = patient_results['submission_date'].max()\n",
    "if len(data) == 1:\n",
    "    patient_subset = patient_results[(patient_results['submission_date'] != today)]\n",
    "    last_submission = patient_subset['TimeStamp'].max()\n",
    "else:\n",
    "    last_submission = today"
   ]
  },
  {
   "cell_type": "code",
   "execution_count": null,
   "metadata": {},
   "outputs": [],
   "source": [
    "## Mood over time\n",
    "  # - D15 = How am I today? - reversed\n",
    "    \n",
    "Mood = patient_results['D15']\n",
    "timeline = patient_results['DateofForm']\n",
    "x = timeline\n",
    "y = (10 - Mood)\n",
    "plt.plot(x, y, color='blue', marker='.',\n",
    "     markerfacecolor='blue', markersize=12)"
   ]
  },
  {
   "cell_type": "code",
   "execution_count": null,
   "metadata": {},
   "outputs": [],
   "source": [
    "## Compared to this time two weeks ago I feel... \n",
    "  # - D16 = Compared to this time two weeks ago I feel - reversed\n",
    "Changing_mood = patient_results['D16']\n",
    "timeline = patient_results['DateofForm']\n",
    "x = timeline\n",
    "y = (10 - Changing_mood)\n",
    "plt.plot(x, y, color='blue', marker='.',\n",
    "     markerfacecolor='blue', markersize=12)"
   ]
  },
  {
   "cell_type": "code",
   "execution_count": null,
   "metadata": {},
   "outputs": [],
   "source": [
    "## Sleep over time\n",
    "  # - D17 = Sleep - reversed\n",
    "Sleep = patient_results['D15']\n",
    "timeline = patient_results['DateofForm']\n",
    "x = timeline\n",
    "y = (10 - Sleep)\n",
    "plt.plot(x, y, color='blue', marker='.',\n",
    "     markerfacecolor='blue', markersize=12)"
   ]
  },
  {
   "cell_type": "code",
   "execution_count": null,
   "metadata": {},
   "outputs": [],
   "source": [
    "## Weight over time\n",
    " # - D18 = Weight\n",
    "weight = patient_results['D18']\n",
    "timeline = patient_results['DateofForm']\n",
    "\n",
    "x = timeline\n",
    "y = weight\n",
    "plt.plot(x, y, color='blue', marker='.',\n",
    "     markerfacecolor='blue', markersize=12)"
   ]
  },
  {
   "cell_type": "code",
   "execution_count": null,
   "metadata": {},
   "outputs": [],
   "source": [
    "patient_results.describe()"
   ]
  },
  {
   "cell_type": "code",
   "execution_count": null,
   "metadata": {
    "scrolled": true
   },
   "outputs": [],
   "source": [
    "## Calculating Mental Health assume all mental health categories are weighted equally\n",
    "### Mental Health\n",
    "#  - D20a = Depression\n",
    "#  - D20b = Anxiety\n",
    "#  - D20c = Enthusiasm - Reversed\n",
    "#  - D20d = Mental Fatigue\n",
    "patient_results['mentalHealth'] = (patient_results.D20a + patient_results.D20b + \n",
    "                                   (10 - patient_results.D20c) + patient_results.D20d)/4\n",
    "patient_results.mentalHealth"
   ]
  },
  {
   "cell_type": "code",
   "execution_count": null,
   "metadata": {},
   "outputs": [],
   "source": [
    "## calculating saliva and swallowing assuming all categories are weighted equally\n",
    "### Saliva and swallowing\n",
    "#  - D21a  = Saliva\n",
    "#  - D21b = Food variety - reversed\n",
    "#  - D21c = Food texture - reversed\n",
    "#  - D21d = Amount of food consumed - reversed\n",
    "#  - D21e = Supplements\n",
    "#  - D21f = Ability to swallow - reversed\n",
    "patient_results['salivaSwallowing'] = (patient_results.D21a + (10 - patient_results.D21b) + \n",
    "                                       (10 - patient_results.D21c) + (10 - patient_results.D21d) + \n",
    "                                       patient_results.D21e + (10 - patient_results.D21f))/6\n"
   ]
  },
  {
   "cell_type": "code",
   "execution_count": null,
   "metadata": {},
   "outputs": [],
   "source": [
    "## Calculating the breathing category assuming all categories are considered equal\n",
    "### Breathing\n",
    "#  - D22a = Overall Breathing - reversed\n",
    "#  - D22b = Shortness of breath - reversed\n",
    "#  - D22c = Breathing while lying flat - reversed\n",
    "\n",
    "patient_results['breathing'] = ((10 - patient_results.D22a) + (10 - patient_results.D22b) + \n",
    "                                (10 - patient_results.D22c))/3\n"
   ]
  },
  {
   "cell_type": "code",
   "execution_count": null,
   "metadata": {},
   "outputs": [],
   "source": [
    "## calculating appetite and digestive system assuming all categories are weighted equally\n",
    "### Appetite and digestive health\n",
    "#  - D23a = Appetite - reversed\n",
    "#  - D23b = Nausea\n",
    "#  - D23c = Bloating/Gas\n",
    "#  - D23d = Constipation\n",
    "\n",
    "patient_results['appetite'] = ((10 - patient_results.D23a) + patient_results.D23b + \n",
    "                               patient_results.D23c + patient_results.D23d) / 4"
   ]
  },
  {
   "cell_type": "code",
   "execution_count": null,
   "metadata": {},
   "outputs": [],
   "source": [
    "## physical attributes assuming all are equal\n",
    "\n",
    "''' Physical\n",
    "  - Physical_Fatigue_LL\n",
    "  - Wasting_LL\n",
    "  - Twitching_LL\n",
    "  - Cramping_LL  \n",
    "  - Weakness_LL\n",
    "  - Stiffness_LL\n",
    "  - Pain_LL\n",
    "  - Physical_Fatigue_RL\n",
    "  - Wasting_RL\n",
    "  - Twitching_RL\n",
    "  - Cramping_RL\n",
    "  - Weakness_RL\n",
    "  - Stiffness_RL\n",
    "  - Pain_RL\n",
    "  - Physical_Fatigue_LA\n",
    "  - Wasting_LA\n",
    "  - Twitching_LA\n",
    "  - Cramping_LA\n",
    "  - Weakness_LA\n",
    "  - Stiffness_LA\n",
    "  - Pain_LA\n",
    "  - Physical_Fatigue_RA\n",
    "  - Wasting_RA\n",
    "  - Twitching_RA\n",
    "  - Cramping_RA\n",
    "  - Weakness_RA\n",
    "  - Stiffness_RA\n",
    "  - Pain_RA\n",
    "  - Physical_Fatigue_Torso\n",
    "  - Wasting_Torso\n",
    "  - Twitching_Torso \n",
    "  - Cramping_Torso \n",
    "  - Weakness_Torso\n",
    "  - Stiffness_Torso\n",
    "  - Pain_Torso\n",
    "  '''\n",
    "patient_results['Left_arm'] = (patient_results.D24a + patient_results.D24b + patient_results.D24c + \n",
    "                               patient_results.D24d + patient_results.D24e + patient_results.D24f +\n",
    "                               patient_results.D24g)/7\n",
    "patient_results['Right_arm'] = (patient_results.D25a + patient_results.D25b + patient_results.D25c + \n",
    "                               patient_results.D25d + patient_results.D25e + patient_results.D25f +\n",
    "                               patient_results.D25g)/7\n",
    "patient_results['Left_leg'] = (patient_results.D26a + patient_results.D26b + patient_results.D26c + \n",
    "                               patient_results.D26d + patient_results.D26e + patient_results.D26f +\n",
    "                               patient_results.D26g)/7\n",
    "patient_results['Right_leg'] = (patient_results.D27a + patient_results.D27b + patient_results.D27c + \n",
    "                               patient_results.D27d + patient_results.D27e + patient_results.D27f +\n",
    "                               patient_results.D27g)/7\n",
    "patient_results['Torso'] = (patient_results.D28a + patient_results.D28b + patient_results.D28c + \n",
    "                               patient_results.D28d + patient_results.D28e + patient_results.D28f +\n",
    "                               patient_results.D28g)/7\n",
    "\n",
    "patient_results['Physical_Total'] = (patient_results.Left_arm + patient_results.Right_arm + \n",
    "                                    patient_results.Left_leg + patient_results.Right_leg + \n",
    "                                    patient_results.Torso) / 5"
   ]
  },
  {
   "cell_type": "code",
   "execution_count": null,
   "metadata": {},
   "outputs": [],
   "source": [
    "## Mental Health over time\n",
    "\n",
    "mentalHealth = patient_results['mentalHealth']\n",
    "timeline = patient_results['DateofForm']\n",
    "\n",
    "x = timeline\n",
    "y = mentalHealth\n",
    "plt.plot(x, y, color='blue', marker='.',\n",
    "     markerfacecolor='blue', markersize=12)\n",
    "plt.title('Mental Health Over time')\n"
   ]
  },
  {
   "cell_type": "code",
   "execution_count": null,
   "metadata": {},
   "outputs": [],
   "source": [
    "## Mental Health over time\n",
    "\n",
    "salivaSwallowing = patient_results['salivaSwallowing']\n",
    "timeline = patient_results['DateofForm']\n",
    "\n",
    "x = timeline\n",
    "y = salivaSwallowing\n",
    "plt.plot(x, y, color='blue', marker='.',\n",
    "     markerfacecolor='blue', markersize=12)\n",
    "plt.title('Saliva and Swallow')"
   ]
  },
  {
   "cell_type": "code",
   "execution_count": null,
   "metadata": {},
   "outputs": [],
   "source": [
    "breathing = patient_results['breathing']\n",
    "timeline = patient_results['DateofForm']\n",
    "\n",
    "x = timeline\n",
    "y = breathing\n",
    "plt.plot(x, y, color='blue', marker='.',\n",
    "     markerfacecolor='blue', markersize=12)\n",
    "plt.title('Breathing')"
   ]
  },
  {
   "cell_type": "code",
   "execution_count": null,
   "metadata": {},
   "outputs": [],
   "source": [
    "physical = patient_results['Physical_Total']\n",
    "timeline = patient_results['DateofForm']\n",
    "\n",
    "x = timeline\n",
    "y = breathing\n",
    "plt.plot(x, y, color='blue', marker='.',\n",
    "     markerfacecolor='blue', markersize=12)\n",
    "plt.title('Physical')"
   ]
  },
  {
   "cell_type": "code",
   "execution_count": null,
   "metadata": {},
   "outputs": [],
   "source": [
    "#Calculating overall health assuming all categories are considered equal\n",
    "\n",
    "patient_results['Overall_Health'] = (patient_results.mentalHealth + patient_results.salivaSwallowing + \n",
    "                                     patient_results.breathing + patient_results.appetite + patient_results.Physical_Total)/5"
   ]
  },
  {
   "cell_type": "code",
   "execution_count": null,
   "metadata": {},
   "outputs": [],
   "source": [
    "overall_health = patient_results['Overall_Health']\n",
    "timeline = patient_results['DateofForm']\n",
    "\n",
    "x = timeline\n",
    "y = breathing\n",
    "plt.plot(x, y, color='blue', marker='.',\n",
    "     markerfacecolor='blue', markersize=12)\n",
    "plt.title('Overall Health')"
   ]
  },
  {
   "cell_type": "code",
   "execution_count": null,
   "metadata": {
    "collapsed": true
   },
   "outputs": [],
   "source": [
    "def get_info(patient, column):\n",
    "    global sampleData\n",
    "    minimum = 200\n",
    "    maximum = 0\n",
    "    mean = -1\n",
    "    for index, row in sampleData.iterrows():\n",
    "    # Choosing categorical variables to encode\n",
    "        if row['D3']==patient:\n",
    "            if minimum > row[column]:\n",
    "                minimum = row[column]\n",
    "            if maximum < row[column]:\n",
    "                maximum = row[column]\n",
    "            if mean == -1:\n",
    "                mean = row[column]\n",
    "                mean = (mean + row[column])/2\n",
    "    return(minimum, maximum, mean)\n",
    "       \n",
    "\n",
    "        "
   ]
  },
  {
   "cell_type": "code",
   "execution_count": null,
   "metadata": {},
   "outputs": [],
   "source": [
    "patient_results.salivaSwallowing"
   ]
  },
  {
   "cell_type": "code",
   "execution_count": null,
   "metadata": {},
   "outputs": [],
   "source": [
    "# DEFINING LATEST INPUT AND LAST INPUT - NEEDS TO BE CHANGED TO FORM INPUT\n",
    "today = patient_results[patient_results['DateofForm'] == '2016-01-01']\n",
    "last_submission = patient_results[patient_results['DateofForm'] == '2015-01-01']\n",
    "output_col = ['D18','mentalHealth', 'salivaSwallowing', 'breathing', 'appetite', 'Physical_Total']\n",
    "for col in output_col:\n",
    "    col_today = today[col]\n",
    "    print(col_today)\n",
    "\n"
   ]
  },
  {
   "cell_type": "code",
   "execution_count": null,
   "metadata": {
    "scrolled": true
   },
   "outputs": [],
   "source": [
    "output_col = ['D18','mentalHealth', 'salivaSwallowing', 'breathing', 'appetite', 'Physical_Total']\n",
    "for col in output_col:\n",
    "    col_today = today[col]\n",
    "    col_last_sub = last_submission[col]\n",
    "    change = float(col_today) / float(col_last_sub)\n",
    "    if change >= 1.2:\n",
    "        print('There has been a significant increase in ' + str(col) + ' results.')\n",
    "    elif change <= 80:\n",
    "        print('There has been a significant decrease in '+ str(col) +  ' results.')\n"
   ]
  }
 ],
 "metadata": {
  "kernelspec": {
   "display_name": "Python 3",
   "language": "python",
   "name": "python3"
  },
  "language_info": {
   "codemirror_mode": {
    "name": "ipython",
    "version": 3
   },
   "file_extension": ".py",
   "mimetype": "text/x-python",
   "name": "python",
   "nbconvert_exporter": "python",
   "pygments_lexer": "ipython3",
   "version": "3.6.2"
  }
 },
 "nbformat": 4,
 "nbformat_minor": 2
}
