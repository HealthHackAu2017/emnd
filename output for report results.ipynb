{
 "cells": [
  {
   "cell_type": "code",
   "execution_count": 252,
   "metadata": {
    "collapsed": true
   },
   "outputs": [],
   "source": [
    "%matplotlib inline\n",
    "import pandas as pd\n",
    "import numpy as np\n",
    "import matplotlib.pyplot as plt\n",
    "#from django.db import models\n",
    "#from pygments.lexers import get_all_lexers\n",
    "#from pygments.styles import get_all_styles "
   ]
  },
  {
   "cell_type": "code",
   "execution_count": 253,
   "metadata": {
    "collapsed": true
   },
   "outputs": [],
   "source": [
    "sampleData = pd.read_csv('SimulatedInputdata -5Nov.csv')"
   ]
  },
  {
   "cell_type": "code",
   "execution_count": 254,
   "metadata": {
    "collapsed": true
   },
   "outputs": [],
   "source": [
    "#Change DateofForm into datetime format\n",
    "sampleData.DateofForm = pd.to_datetime(sampleData.DateofForm)"
   ]
  },
  {
   "attachments": {},
   "cell_type": "markdown",
   "metadata": {},
   "source": [
    "# Column assumptions\n",
    "  - user_id = patient ID\n",
    "  - submission_date = Date the form was submitted\n",
    "  - D18 = weight\n",
    "### Mental Health\n",
    "  - D20a = Depression\n",
    "  - D20b = Anxiety\n",
    "  - D20c = Enthusiasm\n",
    "  - D20d = Mental Fatigue\n",
    "### Saliva and swallowing\n",
    "  - D21a  = Saliva\n",
    "  - D21b = Food variety\n",
    "  - D21c = Food texture\n",
    "  - D21d = Amount of food consumed\n",
    "  - D21e = Supplements\n",
    "  - D21f = Ability to swallow\n",
    "### Breathing\n",
    "  - D22a = Overall Breathing\n",
    "  - D22b = Shortness of breath \n",
    "  - D22c = Breathing while lying flat\n",
    "### Appetite and digestive health\n",
    "  - D23a = Appetite\n",
    "  - D23b = Nausea\n",
    "  - D23c = Bloating/Gas\n",
    "  - D23d = Constipation\n",
    "### Physical\n",
    "\n",
    "  - D24\tLEFT ARM\n",
    "  - D24a\tTwitching\n",
    "  - D24b\tCramping\n",
    "  - D24c\tWeakness\n",
    "  - D24d\tStiffness\n",
    "  - D24e\tPain\n",
    "  - D24f\tPhysical Fatigue\n",
    "  - D24g\tWasting\n",
    "  \n",
    "  - D25\tRIGHT ARM\n",
    "  - D25a\tTwitching\n",
    "  - D25b\tCramping\n",
    "  - D25c\tWeakness\n",
    "  - D25d\tStiffness\n",
    "  - D25e\tPain\n",
    "  - D25f\tPhysical Fatigue\n",
    "  - D25g\tWasting\n",
    "  \n",
    "  - D26\tLEFT LEG\n",
    "  - D26a\tTwitching\n",
    "  - D26b\tCramping\n",
    "  - D26c\tWeakness\n",
    "  - D26d\tStiffness\n",
    "  - D26e\tPain\n",
    "  - D26f\tPhysical Fatigue\n",
    "  - D26g\tWasting\n",
    "\n",
    "  - D27\tRIGHT LEG\n",
    "  - D27a\tTwitching\n",
    "  - D27b\tCramping\n",
    "  - D27c\tWeakness\n",
    "  - D27d\tStiffness\n",
    "  - D27e\tPain\n",
    "  - D27f\tPhysical Fatigue\n",
    "  - D27g\tWasting\n",
    "  \n",
    "  - D28\tTORSO\n",
    "  - D28a\tTwitching\n",
    "  - D28b\tCramping\n",
    "  - D28c\tWeakness\n",
    "  - D28d\tStiffness\n",
    "  - D28e\tPain\n",
    "  - D28f\tPhysical Fatigue\n",
    "  - D28g\tWasting"
   ]
  },
  {
   "cell_type": "code",
   "execution_count": 255,
   "metadata": {},
   "outputs": [],
   "source": [
    "# RETRIEVE INFORMATINO FOR PATIENT X NEEDS TO BE CHANGED TO FORM INPUT\n",
    "patient = 47727\n",
    "patient_results = sampleData[sampleData['D3'] == patient]"
   ]
  },
  {
   "cell_type": "code",
   "execution_count": 256,
   "metadata": {},
   "outputs": [
    {
     "data": {
      "text/html": [
       "<div>\n",
       "<style>\n",
       "    .dataframe thead tr:only-child th {\n",
       "        text-align: right;\n",
       "    }\n",
       "\n",
       "    .dataframe thead th {\n",
       "        text-align: left;\n",
       "    }\n",
       "\n",
       "    .dataframe tbody tr th {\n",
       "        vertical-align: top;\n",
       "    }\n",
       "</style>\n",
       "<table border=\"1\" class=\"dataframe\">\n",
       "  <thead>\n",
       "    <tr style=\"text-align: right;\">\n",
       "      <th></th>\n",
       "      <th>D1</th>\n",
       "      <th>D3</th>\n",
       "      <th>DateofForm</th>\n",
       "      <th>D15</th>\n",
       "      <th>D16</th>\n",
       "      <th>D17</th>\n",
       "      <th>D18</th>\n",
       "      <th>D8</th>\n",
       "      <th>D8.dd</th>\n",
       "      <th>D8.mm</th>\n",
       "      <th>...</th>\n",
       "      <th>D27e</th>\n",
       "      <th>D27f</th>\n",
       "      <th>D27g</th>\n",
       "      <th>D28a</th>\n",
       "      <th>D28b</th>\n",
       "      <th>D28c</th>\n",
       "      <th>D28d</th>\n",
       "      <th>D28e</th>\n",
       "      <th>D28f</th>\n",
       "      <th>D28g</th>\n",
       "    </tr>\n",
       "  </thead>\n",
       "  <tbody>\n",
       "    <tr>\n",
       "      <th>0</th>\n",
       "      <td>patient</td>\n",
       "      <td>47727</td>\n",
       "      <td>2012-01-01</td>\n",
       "      <td>8</td>\n",
       "      <td>10</td>\n",
       "      <td>4</td>\n",
       "      <td>51</td>\n",
       "      <td>27-12-17</td>\n",
       "      <td>27.0</td>\n",
       "      <td>12.0</td>\n",
       "      <td>...</td>\n",
       "      <td>1</td>\n",
       "      <td>10</td>\n",
       "      <td>10</td>\n",
       "      <td>5</td>\n",
       "      <td>1</td>\n",
       "      <td>0</td>\n",
       "      <td>7</td>\n",
       "      <td>5</td>\n",
       "      <td>10</td>\n",
       "      <td>5</td>\n",
       "    </tr>\n",
       "    <tr>\n",
       "      <th>50</th>\n",
       "      <td>patient</td>\n",
       "      <td>47727</td>\n",
       "      <td>2013-01-01</td>\n",
       "      <td>0</td>\n",
       "      <td>1</td>\n",
       "      <td>2</td>\n",
       "      <td>54</td>\n",
       "      <td>27-12-17</td>\n",
       "      <td>27.0</td>\n",
       "      <td>12.0</td>\n",
       "      <td>...</td>\n",
       "      <td>6</td>\n",
       "      <td>4</td>\n",
       "      <td>1</td>\n",
       "      <td>10</td>\n",
       "      <td>6</td>\n",
       "      <td>1</td>\n",
       "      <td>1</td>\n",
       "      <td>4</td>\n",
       "      <td>2</td>\n",
       "      <td>1</td>\n",
       "    </tr>\n",
       "    <tr>\n",
       "      <th>100</th>\n",
       "      <td>patient</td>\n",
       "      <td>47727</td>\n",
       "      <td>2014-01-01</td>\n",
       "      <td>3</td>\n",
       "      <td>4</td>\n",
       "      <td>10</td>\n",
       "      <td>135</td>\n",
       "      <td>27-12-17</td>\n",
       "      <td>27.0</td>\n",
       "      <td>12.0</td>\n",
       "      <td>...</td>\n",
       "      <td>9</td>\n",
       "      <td>3</td>\n",
       "      <td>9</td>\n",
       "      <td>8</td>\n",
       "      <td>9</td>\n",
       "      <td>10</td>\n",
       "      <td>1</td>\n",
       "      <td>6</td>\n",
       "      <td>8</td>\n",
       "      <td>3</td>\n",
       "    </tr>\n",
       "    <tr>\n",
       "      <th>167</th>\n",
       "      <td>patient</td>\n",
       "      <td>47727</td>\n",
       "      <td>2015-01-01</td>\n",
       "      <td>5</td>\n",
       "      <td>1</td>\n",
       "      <td>2</td>\n",
       "      <td>132</td>\n",
       "      <td>27-12-17</td>\n",
       "      <td>27.0</td>\n",
       "      <td>12.0</td>\n",
       "      <td>...</td>\n",
       "      <td>7</td>\n",
       "      <td>7</td>\n",
       "      <td>2</td>\n",
       "      <td>2</td>\n",
       "      <td>1</td>\n",
       "      <td>7</td>\n",
       "      <td>5</td>\n",
       "      <td>0</td>\n",
       "      <td>9</td>\n",
       "      <td>1</td>\n",
       "    </tr>\n",
       "    <tr>\n",
       "      <th>217</th>\n",
       "      <td>patient</td>\n",
       "      <td>47727</td>\n",
       "      <td>2016-01-01</td>\n",
       "      <td>0</td>\n",
       "      <td>10</td>\n",
       "      <td>0</td>\n",
       "      <td>130</td>\n",
       "      <td>27-12-17</td>\n",
       "      <td>27.0</td>\n",
       "      <td>12.0</td>\n",
       "      <td>...</td>\n",
       "      <td>10</td>\n",
       "      <td>9</td>\n",
       "      <td>3</td>\n",
       "      <td>7</td>\n",
       "      <td>3</td>\n",
       "      <td>6</td>\n",
       "      <td>3</td>\n",
       "      <td>2</td>\n",
       "      <td>4</td>\n",
       "      <td>4</td>\n",
       "    </tr>\n",
       "  </tbody>\n",
       "</table>\n",
       "<p>5 rows × 89 columns</p>\n",
       "</div>"
      ],
      "text/plain": [
       "          D1     D3 DateofForm  D15  D16  D17  D18        D8  D8.dd  D8.mm  \\\n",
       "0    patient  47727 2012-01-01    8   10    4   51  27-12-17   27.0   12.0   \n",
       "50   patient  47727 2013-01-01    0    1    2   54  27-12-17   27.0   12.0   \n",
       "100  patient  47727 2014-01-01    3    4   10  135  27-12-17   27.0   12.0   \n",
       "167  patient  47727 2015-01-01    5    1    2  132  27-12-17   27.0   12.0   \n",
       "217  patient  47727 2016-01-01    0   10    0  130  27-12-17   27.0   12.0   \n",
       "\n",
       "    ...   D27e D27f  D27g  D28a  D28b D28c D28d D28e D28f D28g  \n",
       "0   ...      1   10    10     5     1    0    7    5   10    5  \n",
       "50  ...      6    4     1    10     6    1    1    4    2    1  \n",
       "100 ...      9    3     9     8     9   10    1    6    8    3  \n",
       "167 ...      7    7     2     2     1    7    5    0    9    1  \n",
       "217 ...     10    9     3     7     3    6    3    2    4    4  \n",
       "\n",
       "[5 rows x 89 columns]"
      ]
     },
     "execution_count": 256,
     "metadata": {},
     "output_type": "execute_result"
    }
   ],
   "source": [
    "patient_results.head()"
   ]
  },
  {
   "cell_type": "code",
   "execution_count": 257,
   "metadata": {},
   "outputs": [],
   "source": [
    "# DEFINING LATEST INPUT AND LAST INPUT - NEEDS TO BE CHANGED TO FORM INPUT\n",
    "today = patient_results[patient_results['DateofForm'] == '2016-01-01']\n",
    "last_submission = patient_results[patient_results['DateofForm'] == '2015-01-01']"
   ]
  },
  {
   "cell_type": "code",
   "execution_count": 258,
   "metadata": {},
   "outputs": [
    {
     "data": {
      "text/plain": [
       "[<matplotlib.lines.Line2D at 0x1b4407b3518>]"
      ]
     },
     "execution_count": 258,
     "metadata": {},
     "output_type": "execute_result"
    },
    {
     "data": {
      "image/png": "[encoded data removed]",
      "text/plain": [
       "<matplotlib.figure.Figure at 0x1b4409f3e48>"
      ]
     },
     "metadata": {},
     "output_type": "display_data"
    }
   ],
   "source": [
    "## Mood over time\n",
    "  # - D15 = How am I today? - reversed\n",
    "    \n",
    "Mood = patient_results['D15']\n",
    "timeline = patient_results['DateofForm']\n",
    "x = timeline\n",
    "y = (10 - Mood)\n",
    "plt.plot(x, y, color='blue', marker='.',\n",
    "     markerfacecolor='blue', markersize=12)"
   ]
  },
  {
   "cell_type": "code",
   "execution_count": 259,
   "metadata": {},
   "outputs": [
    {
     "data": {
      "text/plain": [
       "[<matplotlib.lines.Line2D at 0x1b440d4e5f8>]"
      ]
     },
     "execution_count": 259,
     "metadata": {},
     "output_type": "execute_result"
    },
    {
     "data": {
      "image/png": "[encoded data removed]",
      "text/plain": [
       "<matplotlib.figure.Figure at 0x1b440bb3cc0>"
      ]
     },
     "metadata": {},
     "output_type": "display_data"
    }
   ],
   "source": [
    "## Compared to this time two weeks ago I feel... \n",
    "  # - D16 = Compared to this time two weeks ago I feel - reversed\n",
    "Changing_mood = patient_results['D16']\n",
    "timeline = patient_results['DateofForm']\n",
    "x = timeline\n",
    "y = (10 - Changing_mood)\n",
    "plt.plot(x, y, color='blue', marker='.',\n",
    "     markerfacecolor='blue', markersize=12)"
   ]
  },
  {
   "cell_type": "code",
   "execution_count": 260,
   "metadata": {},
   "outputs": [
    {
     "data": {
      "text/plain": [
       "[<matplotlib.lines.Line2D at 0x1b440de3d30>]"
      ]
     },
     "execution_count": 260,
     "metadata": {},
     "output_type": "execute_result"
    },
    {
     "data": {
      "image/png": "[encoded data removed]",
      "text/plain": [
       "<matplotlib.figure.Figure at 0x1b440a0d860>"
      ]
     },
     "metadata": {},
     "output_type": "display_data"
    }
   ],
   "source": [
    "## Sleep over time\n",
    "  # - D17 = Sleep - reversed\n",
    "Sleep = patient_results['D15']\n",
    "timeline = patient_results['DateofForm']\n",
    "x = timeline\n",
    "y = (10 - Sleep)\n",
    "plt.plot(x, y, color='blue', marker='.',\n",
    "     markerfacecolor='blue', markersize=12)"
   ]
  },
  {
   "cell_type": "code",
   "execution_count": 261,
   "metadata": {},
   "outputs": [
    {
     "data": {
      "text/plain": [
       "[<matplotlib.lines.Line2D at 0x1b440e89780>]"
      ]
     },
     "execution_count": 261,
     "metadata": {},
     "output_type": "execute_result"
    },
    {
     "data": {
      "image/png": "[encoded data removed]",
      "text/plain": [
       "<matplotlib.figure.Figure at 0x1b4409f3630>"
      ]
     },
     "metadata": {},
     "output_type": "display_data"
    }
   ],
   "source": [
    "## Weight over time\n",
    " # - D18 = Weight\n",
    "weight = patient_results['D18']\n",
    "timeline = patient_results['DateofForm']\n",
    "\n",
    "x = timeline\n",
    "y = weight\n",
    "plt.plot(x, y, color='blue', marker='.',\n",
    "     markerfacecolor='blue', markersize=12)"
   ]
  },
  {
   "cell_type": "code",
   "execution_count": 262,
   "metadata": {},
   "outputs": [
    {
     "data": {
      "text/html": [
       "<div>\n",
       "<style>\n",
       "    .dataframe thead tr:only-child th {\n",
       "        text-align: right;\n",
       "    }\n",
       "\n",
       "    .dataframe thead th {\n",
       "        text-align: left;\n",
       "    }\n",
       "\n",
       "    .dataframe tbody tr th {\n",
       "        vertical-align: top;\n",
       "    }\n",
       "</style>\n",
       "<table border=\"1\" class=\"dataframe\">\n",
       "  <thead>\n",
       "    <tr style=\"text-align: right;\">\n",
       "      <th></th>\n",
       "      <th>D3</th>\n",
       "      <th>D15</th>\n",
       "      <th>D16</th>\n",
       "      <th>D17</th>\n",
       "      <th>D18</th>\n",
       "      <th>D8.dd</th>\n",
       "      <th>D8.mm</th>\n",
       "      <th>D8.yyyy</th>\n",
       "      <th>D9.dd</th>\n",
       "      <th>D9.mm</th>\n",
       "      <th>...</th>\n",
       "      <th>D27e</th>\n",
       "      <th>D27f</th>\n",
       "      <th>D27g</th>\n",
       "      <th>D28a</th>\n",
       "      <th>D28b</th>\n",
       "      <th>D28c</th>\n",
       "      <th>D28d</th>\n",
       "      <th>D28e</th>\n",
       "      <th>D28f</th>\n",
       "      <th>D28g</th>\n",
       "    </tr>\n",
       "  </thead>\n",
       "  <tbody>\n",
       "    <tr>\n",
       "      <th>count</th>\n",
       "      <td>5.0</td>\n",
       "      <td>5.000000</td>\n",
       "      <td>5.000000</td>\n",
       "      <td>5.000000</td>\n",
       "      <td>5.000000</td>\n",
       "      <td>5.0</td>\n",
       "      <td>5.0</td>\n",
       "      <td>5.0</td>\n",
       "      <td>5.0</td>\n",
       "      <td>5.0</td>\n",
       "      <td>...</td>\n",
       "      <td>5.000000</td>\n",
       "      <td>5.00000</td>\n",
       "      <td>5.0000</td>\n",
       "      <td>5.00000</td>\n",
       "      <td>5.000000</td>\n",
       "      <td>5.000000</td>\n",
       "      <td>5.000000</td>\n",
       "      <td>5.000000</td>\n",
       "      <td>5.000000</td>\n",
       "      <td>5.000000</td>\n",
       "    </tr>\n",
       "    <tr>\n",
       "      <th>mean</th>\n",
       "      <td>47727.0</td>\n",
       "      <td>3.200000</td>\n",
       "      <td>5.200000</td>\n",
       "      <td>3.600000</td>\n",
       "      <td>100.400000</td>\n",
       "      <td>27.0</td>\n",
       "      <td>12.0</td>\n",
       "      <td>2017.0</td>\n",
       "      <td>6.0</td>\n",
       "      <td>6.0</td>\n",
       "      <td>...</td>\n",
       "      <td>6.600000</td>\n",
       "      <td>6.60000</td>\n",
       "      <td>5.0000</td>\n",
       "      <td>6.40000</td>\n",
       "      <td>4.000000</td>\n",
       "      <td>4.800000</td>\n",
       "      <td>3.400000</td>\n",
       "      <td>3.400000</td>\n",
       "      <td>6.600000</td>\n",
       "      <td>2.800000</td>\n",
       "    </tr>\n",
       "    <tr>\n",
       "      <th>std</th>\n",
       "      <td>0.0</td>\n",
       "      <td>3.420526</td>\n",
       "      <td>4.549725</td>\n",
       "      <td>3.847077</td>\n",
       "      <td>43.775564</td>\n",
       "      <td>0.0</td>\n",
       "      <td>0.0</td>\n",
       "      <td>0.0</td>\n",
       "      <td>0.0</td>\n",
       "      <td>0.0</td>\n",
       "      <td>...</td>\n",
       "      <td>3.507136</td>\n",
       "      <td>3.04959</td>\n",
       "      <td>4.1833</td>\n",
       "      <td>3.04959</td>\n",
       "      <td>3.464102</td>\n",
       "      <td>4.207137</td>\n",
       "      <td>2.607681</td>\n",
       "      <td>2.408319</td>\n",
       "      <td>3.435113</td>\n",
       "      <td>1.788854</td>\n",
       "    </tr>\n",
       "    <tr>\n",
       "      <th>min</th>\n",
       "      <td>47727.0</td>\n",
       "      <td>0.000000</td>\n",
       "      <td>1.000000</td>\n",
       "      <td>0.000000</td>\n",
       "      <td>51.000000</td>\n",
       "      <td>27.0</td>\n",
       "      <td>12.0</td>\n",
       "      <td>2017.0</td>\n",
       "      <td>6.0</td>\n",
       "      <td>6.0</td>\n",
       "      <td>...</td>\n",
       "      <td>1.000000</td>\n",
       "      <td>3.00000</td>\n",
       "      <td>1.0000</td>\n",
       "      <td>2.00000</td>\n",
       "      <td>1.000000</td>\n",
       "      <td>0.000000</td>\n",
       "      <td>1.000000</td>\n",
       "      <td>0.000000</td>\n",
       "      <td>2.000000</td>\n",
       "      <td>1.000000</td>\n",
       "    </tr>\n",
       "    <tr>\n",
       "      <th>25%</th>\n",
       "      <td>47727.0</td>\n",
       "      <td>0.000000</td>\n",
       "      <td>1.000000</td>\n",
       "      <td>2.000000</td>\n",
       "      <td>54.000000</td>\n",
       "      <td>27.0</td>\n",
       "      <td>12.0</td>\n",
       "      <td>2017.0</td>\n",
       "      <td>6.0</td>\n",
       "      <td>6.0</td>\n",
       "      <td>...</td>\n",
       "      <td>6.000000</td>\n",
       "      <td>4.00000</td>\n",
       "      <td>2.0000</td>\n",
       "      <td>5.00000</td>\n",
       "      <td>1.000000</td>\n",
       "      <td>1.000000</td>\n",
       "      <td>1.000000</td>\n",
       "      <td>2.000000</td>\n",
       "      <td>4.000000</td>\n",
       "      <td>1.000000</td>\n",
       "    </tr>\n",
       "    <tr>\n",
       "      <th>50%</th>\n",
       "      <td>47727.0</td>\n",
       "      <td>3.000000</td>\n",
       "      <td>4.000000</td>\n",
       "      <td>2.000000</td>\n",
       "      <td>130.000000</td>\n",
       "      <td>27.0</td>\n",
       "      <td>12.0</td>\n",
       "      <td>2017.0</td>\n",
       "      <td>6.0</td>\n",
       "      <td>6.0</td>\n",
       "      <td>...</td>\n",
       "      <td>7.000000</td>\n",
       "      <td>7.00000</td>\n",
       "      <td>3.0000</td>\n",
       "      <td>7.00000</td>\n",
       "      <td>3.000000</td>\n",
       "      <td>6.000000</td>\n",
       "      <td>3.000000</td>\n",
       "      <td>4.000000</td>\n",
       "      <td>8.000000</td>\n",
       "      <td>3.000000</td>\n",
       "    </tr>\n",
       "    <tr>\n",
       "      <th>75%</th>\n",
       "      <td>47727.0</td>\n",
       "      <td>5.000000</td>\n",
       "      <td>10.000000</td>\n",
       "      <td>4.000000</td>\n",
       "      <td>132.000000</td>\n",
       "      <td>27.0</td>\n",
       "      <td>12.0</td>\n",
       "      <td>2017.0</td>\n",
       "      <td>6.0</td>\n",
       "      <td>6.0</td>\n",
       "      <td>...</td>\n",
       "      <td>9.000000</td>\n",
       "      <td>9.00000</td>\n",
       "      <td>9.0000</td>\n",
       "      <td>8.00000</td>\n",
       "      <td>6.000000</td>\n",
       "      <td>7.000000</td>\n",
       "      <td>5.000000</td>\n",
       "      <td>5.000000</td>\n",
       "      <td>9.000000</td>\n",
       "      <td>4.000000</td>\n",
       "    </tr>\n",
       "    <tr>\n",
       "      <th>max</th>\n",
       "      <td>47727.0</td>\n",
       "      <td>8.000000</td>\n",
       "      <td>10.000000</td>\n",
       "      <td>10.000000</td>\n",
       "      <td>135.000000</td>\n",
       "      <td>27.0</td>\n",
       "      <td>12.0</td>\n",
       "      <td>2017.0</td>\n",
       "      <td>6.0</td>\n",
       "      <td>6.0</td>\n",
       "      <td>...</td>\n",
       "      <td>10.000000</td>\n",
       "      <td>10.00000</td>\n",
       "      <td>10.0000</td>\n",
       "      <td>10.00000</td>\n",
       "      <td>9.000000</td>\n",
       "      <td>10.000000</td>\n",
       "      <td>7.000000</td>\n",
       "      <td>6.000000</td>\n",
       "      <td>10.000000</td>\n",
       "      <td>5.000000</td>\n",
       "    </tr>\n",
       "  </tbody>\n",
       "</table>\n",
       "<p>8 rows × 65 columns</p>\n",
       "</div>"
      ],
      "text/plain": [
       "            D3       D15        D16        D17         D18  D8.dd  D8.mm  \\\n",
       "count      5.0  5.000000   5.000000   5.000000    5.000000    5.0    5.0   \n",
       "mean   47727.0  3.200000   5.200000   3.600000  100.400000   27.0   12.0   \n",
       "std        0.0  3.420526   4.549725   3.847077   43.775564    0.0    0.0   \n",
       "min    47727.0  0.000000   1.000000   0.000000   51.000000   27.0   12.0   \n",
       "25%    47727.0  0.000000   1.000000   2.000000   54.000000   27.0   12.0   \n",
       "50%    47727.0  3.000000   4.000000   2.000000  130.000000   27.0   12.0   \n",
       "75%    47727.0  5.000000  10.000000   4.000000  132.000000   27.0   12.0   \n",
       "max    47727.0  8.000000  10.000000  10.000000  135.000000   27.0   12.0   \n",
       "\n",
       "       D8.yyyy  D9.dd  D9.mm    ...          D27e      D27f     D27g  \\\n",
       "count      5.0    5.0    5.0    ...      5.000000   5.00000   5.0000   \n",
       "mean    2017.0    6.0    6.0    ...      6.600000   6.60000   5.0000   \n",
       "std        0.0    0.0    0.0    ...      3.507136   3.04959   4.1833   \n",
       "min     2017.0    6.0    6.0    ...      1.000000   3.00000   1.0000   \n",
       "25%     2017.0    6.0    6.0    ...      6.000000   4.00000   2.0000   \n",
       "50%     2017.0    6.0    6.0    ...      7.000000   7.00000   3.0000   \n",
       "75%     2017.0    6.0    6.0    ...      9.000000   9.00000   9.0000   \n",
       "max     2017.0    6.0    6.0    ...     10.000000  10.00000  10.0000   \n",
       "\n",
       "           D28a      D28b       D28c      D28d      D28e       D28f      D28g  \n",
       "count   5.00000  5.000000   5.000000  5.000000  5.000000   5.000000  5.000000  \n",
       "mean    6.40000  4.000000   4.800000  3.400000  3.400000   6.600000  2.800000  \n",
       "std     3.04959  3.464102   4.207137  2.607681  2.408319   3.435113  1.788854  \n",
       "min     2.00000  1.000000   0.000000  1.000000  0.000000   2.000000  1.000000  \n",
       "25%     5.00000  1.000000   1.000000  1.000000  2.000000   4.000000  1.000000  \n",
       "50%     7.00000  3.000000   6.000000  3.000000  4.000000   8.000000  3.000000  \n",
       "75%     8.00000  6.000000   7.000000  5.000000  5.000000   9.000000  4.000000  \n",
       "max    10.00000  9.000000  10.000000  7.000000  6.000000  10.000000  5.000000  \n",
       "\n",
       "[8 rows x 65 columns]"
      ]
     },
     "execution_count": 262,
     "metadata": {},
     "output_type": "execute_result"
    }
   ],
   "source": [
    "patient_results.describe()"
   ]
  },
  {
   "cell_type": "code",
   "execution_count": 263,
   "metadata": {
    "scrolled": true
   },
   "outputs": [
    {
     "name": "stderr",
     "output_type": "stream",
     "text": [
      "C:\\Users\\Katherinep\\AppData\\Local\\conda\\conda\\envs\\p2_Wrangle\\lib\\site-packages\\ipykernel_launcher.py:8: SettingWithCopyWarning: \n",
      "A value is trying to be set on a copy of a slice from a DataFrame.\n",
      "Try using .loc[row_indexer,col_indexer] = value instead\n",
      "\n",
      "See the caveats in the documentation: http://pandas.pydata.org/pandas-docs/stable/indexing.html#indexing-view-versus-copy\n",
      "  \n"
     ]
    },
    {
     "data": {
      "text/plain": [
       "0      4.75\n",
       "50     8.00\n",
       "100    6.50\n",
       "167    5.25\n",
       "217    7.00\n",
       "Name: mentalHealth, dtype: float64"
      ]
     },
     "execution_count": 263,
     "metadata": {},
     "output_type": "execute_result"
    }
   ],
   "source": [
    "## Calculating Mental Health assume all mental health categories are weighted equally\n",
    "### Mental Health\n",
    "#  - D20a = Depression\n",
    "#  - D20b = Anxiety\n",
    "#  - D20c = Enthusiasm - Reversed\n",
    "#  - D20d = Mental Fatigue\n",
    "patient_results['mentalHealth'] = (patient_results.D20a + patient_results.D20b + \n",
    "                                   (10 - patient_results.D20c) + patient_results.D20d)/4\n",
    "patient_results.mentalHealth"
   ]
  },
  {
   "cell_type": "code",
   "execution_count": 264,
   "metadata": {},
   "outputs": [
    {
     "name": "stderr",
     "output_type": "stream",
     "text": [
      "C:\\Users\\Katherinep\\AppData\\Local\\conda\\conda\\envs\\p2_Wrangle\\lib\\site-packages\\ipykernel_launcher.py:11: SettingWithCopyWarning: \n",
      "A value is trying to be set on a copy of a slice from a DataFrame.\n",
      "Try using .loc[row_indexer,col_indexer] = value instead\n",
      "\n",
      "See the caveats in the documentation: http://pandas.pydata.org/pandas-docs/stable/indexing.html#indexing-view-versus-copy\n",
      "  # This is added back by InteractiveShellApp.init_path()\n"
     ]
    }
   ],
   "source": [
    "## calculating saliva and swallowing assuming all categories are weighted equally\n",
    "### Saliva and swallowing\n",
    "#  - D21a  = Saliva\n",
    "#  - D21b = Food variety - reversed\n",
    "#  - D21c = Food texture - reversed\n",
    "#  - D21d = Amount of food consumed - reversed\n",
    "#  - D21e = Supplements\n",
    "#  - D21f = Ability to swallow - reversed\n",
    "patient_results['salivaSwallowing'] = (patient_results.D21a + (10 - patient_results.D21b) + \n",
    "                                       (10 - patient_results.D21c) + (10 - patient_results.D21d) + \n",
    "                                       patient_results.D21e + (10 - patient_results.D21f))/6\n"
   ]
  },
  {
   "cell_type": "code",
   "execution_count": 265,
   "metadata": {},
   "outputs": [
    {
     "name": "stderr",
     "output_type": "stream",
     "text": [
      "C:\\Users\\Katherinep\\AppData\\Local\\conda\\conda\\envs\\p2_Wrangle\\lib\\site-packages\\ipykernel_launcher.py:8: SettingWithCopyWarning: \n",
      "A value is trying to be set on a copy of a slice from a DataFrame.\n",
      "Try using .loc[row_indexer,col_indexer] = value instead\n",
      "\n",
      "See the caveats in the documentation: http://pandas.pydata.org/pandas-docs/stable/indexing.html#indexing-view-versus-copy\n",
      "  \n"
     ]
    }
   ],
   "source": [
    "## Calculating the breathing category assuming all categories are considered equal\n",
    "### Breathing\n",
    "#  - D22a = Overall Breathing - reversed\n",
    "#  - D22b = Shortness of breath - reversed\n",
    "#  - D22c = Breathing while lying flat - reversed\n",
    "\n",
    "patient_results['breathing'] = ((10 - patient_results.D22a) + (10 - patient_results.D22b) + \n",
    "                                (10 - patient_results.D22c))/3\n"
   ]
  },
  {
   "cell_type": "code",
   "execution_count": 266,
   "metadata": {},
   "outputs": [
    {
     "name": "stderr",
     "output_type": "stream",
     "text": [
      "C:\\Users\\Katherinep\\AppData\\Local\\conda\\conda\\envs\\p2_Wrangle\\lib\\site-packages\\ipykernel_launcher.py:9: SettingWithCopyWarning: \n",
      "A value is trying to be set on a copy of a slice from a DataFrame.\n",
      "Try using .loc[row_indexer,col_indexer] = value instead\n",
      "\n",
      "See the caveats in the documentation: http://pandas.pydata.org/pandas-docs/stable/indexing.html#indexing-view-versus-copy\n",
      "  if __name__ == '__main__':\n"
     ]
    }
   ],
   "source": [
    "## calculating appetite and digestive system assuming all categories are weighted equally\n",
    "### Appetite and digestive health\n",
    "#  - D23a = Appetite - reversed\n",
    "#  - D23b = Nausea\n",
    "#  - D23c = Bloating/Gas\n",
    "#  - D23d = Constipation\n",
    "\n",
    "patient_results['appetite'] = ((10 - patient_results.D23a) + patient_results.D23b + \n",
    "                               patient_results.D23c + patient_results.D23d) / 4"
   ]
  },
  {
   "cell_type": "code",
   "execution_count": 267,
   "metadata": {},
   "outputs": [
    {
     "name": "stderr",
     "output_type": "stream",
     "text": [
      "C:\\Users\\Katherinep\\AppData\\Local\\conda\\conda\\envs\\p2_Wrangle\\lib\\site-packages\\ipykernel_launcher.py:42: SettingWithCopyWarning: \n",
      "A value is trying to be set on a copy of a slice from a DataFrame.\n",
      "Try using .loc[row_indexer,col_indexer] = value instead\n",
      "\n",
      "See the caveats in the documentation: http://pandas.pydata.org/pandas-docs/stable/indexing.html#indexing-view-versus-copy\n",
      "C:\\Users\\Katherinep\\AppData\\Local\\conda\\conda\\envs\\p2_Wrangle\\lib\\site-packages\\ipykernel_launcher.py:45: SettingWithCopyWarning: \n",
      "A value is trying to be set on a copy of a slice from a DataFrame.\n",
      "Try using .loc[row_indexer,col_indexer] = value instead\n",
      "\n",
      "See the caveats in the documentation: http://pandas.pydata.org/pandas-docs/stable/indexing.html#indexing-view-versus-copy\n",
      "C:\\Users\\Katherinep\\AppData\\Local\\conda\\conda\\envs\\p2_Wrangle\\lib\\site-packages\\ipykernel_launcher.py:48: SettingWithCopyWarning: \n",
      "A value is trying to be set on a copy of a slice from a DataFrame.\n",
      "Try using .loc[row_indexer,col_indexer] = value instead\n",
      "\n",
      "See the caveats in the documentation: http://pandas.pydata.org/pandas-docs/stable/indexing.html#indexing-view-versus-copy\n",
      "C:\\Users\\Katherinep\\AppData\\Local\\conda\\conda\\envs\\p2_Wrangle\\lib\\site-packages\\ipykernel_launcher.py:51: SettingWithCopyWarning: \n",
      "A value is trying to be set on a copy of a slice from a DataFrame.\n",
      "Try using .loc[row_indexer,col_indexer] = value instead\n",
      "\n",
      "See the caveats in the documentation: http://pandas.pydata.org/pandas-docs/stable/indexing.html#indexing-view-versus-copy\n",
      "C:\\Users\\Katherinep\\AppData\\Local\\conda\\conda\\envs\\p2_Wrangle\\lib\\site-packages\\ipykernel_launcher.py:54: SettingWithCopyWarning: \n",
      "A value is trying to be set on a copy of a slice from a DataFrame.\n",
      "Try using .loc[row_indexer,col_indexer] = value instead\n",
      "\n",
      "See the caveats in the documentation: http://pandas.pydata.org/pandas-docs/stable/indexing.html#indexing-view-versus-copy\n",
      "C:\\Users\\Katherinep\\AppData\\Local\\conda\\conda\\envs\\p2_Wrangle\\lib\\site-packages\\ipykernel_launcher.py:58: SettingWithCopyWarning: \n",
      "A value is trying to be set on a copy of a slice from a DataFrame.\n",
      "Try using .loc[row_indexer,col_indexer] = value instead\n",
      "\n",
      "See the caveats in the documentation: http://pandas.pydata.org/pandas-docs/stable/indexing.html#indexing-view-versus-copy\n"
     ]
    }
   ],
   "source": [
    "## physical attributes assuming all are equal\n",
    "\n",
    "''' Physical\n",
    "  - Physical_Fatigue_LL\n",
    "  - Wasting_LL\n",
    "  - Twitching_LL\n",
    "  - Cramping_LL  \n",
    "  - Weakness_LL\n",
    "  - Stiffness_LL\n",
    "  - Pain_LL\n",
    "  - Physical_Fatigue_RL\n",
    "  - Wasting_RL\n",
    "  - Twitching_RL\n",
    "  - Cramping_RL\n",
    "  - Weakness_RL\n",
    "  - Stiffness_RL\n",
    "  - Pain_RL\n",
    "  - Physical_Fatigue_LA\n",
    "  - Wasting_LA\n",
    "  - Twitching_LA\n",
    "  - Cramping_LA\n",
    "  - Weakness_LA\n",
    "  - Stiffness_LA\n",
    "  - Pain_LA\n",
    "  - Physical_Fatigue_RA\n",
    "  - Wasting_RA\n",
    "  - Twitching_RA\n",
    "  - Cramping_RA\n",
    "  - Weakness_RA\n",
    "  - Stiffness_RA\n",
    "  - Pain_RA\n",
    "  - Physical_Fatigue_Torso\n",
    "  - Wasting_Torso\n",
    "  - Twitching_Torso \n",
    "  - Cramping_Torso \n",
    "  - Weakness_Torso\n",
    "  - Stiffness_Torso\n",
    "  - Pain_Torso\n",
    "  '''\n",
    "patient_results['Left_arm'] = (patient_results.D24a + patient_results.D24b + patient_results.D24c + \n",
    "                               patient_results.D24d + patient_results.D24e + patient_results.D24f +\n",
    "                               patient_results.D24g)/7\n",
    "patient_results['Right_arm'] = (patient_results.D25a + patient_results.D25b + patient_results.D25c + \n",
    "                               patient_results.D25d + patient_results.D25e + patient_results.D25f +\n",
    "                               patient_results.D25g)/7\n",
    "patient_results['Left_leg'] = (patient_results.D26a + patient_results.D26b + patient_results.D26c + \n",
    "                               patient_results.D26d + patient_results.D26e + patient_results.D26f +\n",
    "                               patient_results.D26g)/7\n",
    "patient_results['Right_leg'] = (patient_results.D27a + patient_results.D27b + patient_results.D27c + \n",
    "                               patient_results.D27d + patient_results.D27e + patient_results.D27f +\n",
    "                               patient_results.D27g)/7\n",
    "patient_results['Torso'] = (patient_results.D28a + patient_results.D28b + patient_results.D28c + \n",
    "                               patient_results.D28d + patient_results.D28e + patient_results.D28f +\n",
    "                               patient_results.D28g)/7\n",
    "\n",
    "patient_results['Physical_Total'] = (patient_results.Left_arm + patient_results.Right_arm + \n",
    "                                    patient_results.Left_leg + patient_results.Right_leg + \n",
    "                                    patient_results.Torso) / 5"
   ]
  },
  {
   "cell_type": "code",
   "execution_count": 268,
   "metadata": {},
   "outputs": [
    {
     "data": {
      "text/plain": [
       "<matplotlib.text.Text at 0x1b440f11dd8>"
      ]
     },
     "execution_count": 268,
     "metadata": {},
     "output_type": "execute_result"
    },
    {
     "data": {
      "image/png": "[encoded data removed]",
      "text/plain": [
       "<matplotlib.figure.Figure at 0x1b440635f60>"
      ]
     },
     "metadata": {},
     "output_type": "display_data"
    }
   ],
   "source": [
    "## Mental Health over time\n",
    "\n",
    "mentalHealth = patient_results['mentalHealth']\n",
    "timeline = patient_results['DateofForm']\n",
    "\n",
    "x = timeline\n",
    "y = mentalHealth\n",
    "plt.plot(x, y, color='blue', marker='.',\n",
    "     markerfacecolor='blue', markersize=12)\n",
    "plt.title('Mental Health Over time')\n"
   ]
  },
  {
   "cell_type": "code",
   "execution_count": 269,
   "metadata": {},
   "outputs": [
    {
     "data": {
      "text/plain": [
       "<matplotlib.text.Text at 0x1b441f89dd8>"
      ]
     },
     "execution_count": 269,
     "metadata": {},
     "output_type": "execute_result"
    },
    {
     "data": {
      "image/png": "[encoded data removed]",
      "text/plain": [
       "<matplotlib.figure.Figure at 0x1b440501cc0>"
      ]
     },
     "metadata": {},
     "output_type": "display_data"
    }
   ],
   "source": [
    "## Mental Health over time\n",
    "\n",
    "salivaSwallowing = patient_results['salivaSwallowing']\n",
    "timeline = patient_results['DateofForm']\n",
    "\n",
    "x = timeline\n",
    "y = salivaSwallowing\n",
    "plt.plot(x, y, color='blue', marker='.',\n",
    "     markerfacecolor='blue', markersize=12)\n",
    "plt.title('Saliva and Swallow')"
   ]
  },
  {
   "cell_type": "code",
   "execution_count": 270,
   "metadata": {},
   "outputs": [
    {
     "data": {
      "text/plain": [
       "<matplotlib.text.Text at 0x1b442027ef0>"
      ]
     },
     "execution_count": 270,
     "metadata": {},
     "output_type": "execute_result"
    },
    {
     "data": {
      "image/png": "[encoded data removed]",
      "text/plain": [
       "<matplotlib.figure.Figure at 0x1b44059b518>"
      ]
     },
     "metadata": {},
     "output_type": "display_data"
    }
   ],
   "source": [
    "breathing = patient_results['breathing']\n",
    "timeline = patient_results['DateofForm']\n",
    "\n",
    "x = timeline\n",
    "y = breathing\n",
    "plt.plot(x, y, color='blue', marker='.',\n",
    "     markerfacecolor='blue', markersize=12)\n",
    "plt.title('Breathing')"
   ]
  },
  {
   "cell_type": "code",
   "execution_count": 271,
   "metadata": {},
   "outputs": [
    {
     "data": {
      "text/plain": [
       "<matplotlib.text.Text at 0x1b4420bddd8>"
      ]
     },
     "execution_count": 271,
     "metadata": {},
     "output_type": "execute_result"
    },
    {
     "data": {
      "image/png": "[encoded data removed]",
      "text/plain": [
       "<matplotlib.figure.Figure at 0x1b440611e10>"
      ]
     },
     "metadata": {},
     "output_type": "display_data"
    }
   ],
   "source": [
    "physical = patient_results['Physical_Total']\n",
    "timeline = patient_results['DateofForm']\n",
    "\n",
    "x = timeline\n",
    "y = breathing\n",
    "plt.plot(x, y, color='blue', marker='.',\n",
    "     markerfacecolor='blue', markersize=12)\n",
    "plt.title('Physical')"
   ]
  },
  {
   "cell_type": "code",
   "execution_count": 272,
   "metadata": {},
   "outputs": [
    {
     "name": "stderr",
     "output_type": "stream",
     "text": [
      "C:\\Users\\Katherinep\\AppData\\Local\\conda\\conda\\envs\\p2_Wrangle\\lib\\site-packages\\ipykernel_launcher.py:4: SettingWithCopyWarning: \n",
      "A value is trying to be set on a copy of a slice from a DataFrame.\n",
      "Try using .loc[row_indexer,col_indexer] = value instead\n",
      "\n",
      "See the caveats in the documentation: http://pandas.pydata.org/pandas-docs/stable/indexing.html#indexing-view-versus-copy\n",
      "  after removing the cwd from sys.path.\n"
     ]
    }
   ],
   "source": [
    "#Calculating overall health assuming all categories are considered equal\n",
    "\n",
    "patient_results['Overall_Health'] = (patient_results.mentalHealth + patient_results.salivaSwallowing + \n",
    "                                     patient_results.breathing + patient_results.appetite + patient_results.Physical_Total)/5"
   ]
  },
  {
   "cell_type": "code",
   "execution_count": 273,
   "metadata": {},
   "outputs": [
    {
     "data": {
      "text/plain": [
       "<matplotlib.text.Text at 0x1b442155e48>"
      ]
     },
     "execution_count": 273,
     "metadata": {},
     "output_type": "execute_result"
    },
    {
     "data": {
      "image/png": "[encoded data removed]",
      "text/plain": [
       "<matplotlib.figure.Figure at 0x1b4409f3b00>"
      ]
     },
     "metadata": {},
     "output_type": "display_data"
    }
   ],
   "source": [
    "overall_health = patient_results['Overall_Health']\n",
    "timeline = patient_results['DateofForm']\n",
    "\n",
    "x = timeline\n",
    "y = breathing\n",
    "plt.plot(x, y, color='blue', marker='.',\n",
    "     markerfacecolor='blue', markersize=12)\n",
    "plt.title('Overall Health')"
   ]
  },
  {
   "cell_type": "code",
   "execution_count": 274,
   "metadata": {
    "collapsed": true
   },
   "outputs": [],
   "source": [
    "def get_info(patient, column):\n",
    "    global sampleData\n",
    "    minimum = 200\n",
    "    maximum = 0\n",
    "    mean = -1\n",
    "    for index, row in sampleData.iterrows():\n",
    "    # Choosing categorical variables to encode\n",
    "        if row['D3']==patient:\n",
    "            if minimum > row[column]:\n",
    "                minimum = row[column]\n",
    "            if maximum < row[column]:\n",
    "                maximum = row[column]\n",
    "            if mean == -1:\n",
    "                mean = row[column]\n",
    "                mean = (mean + row[column])/2\n",
    "    return(minimum, maximum, mean)\n",
    "       \n",
    "\n",
    "        "
   ]
  },
  {
   "cell_type": "code",
   "execution_count": 275,
   "metadata": {},
   "outputs": [
    {
     "data": {
      "text/plain": [
       "0      7.500000\n",
       "50     4.333333\n",
       "100    6.333333\n",
       "167    4.166667\n",
       "217    4.666667\n",
       "Name: salivaSwallowing, dtype: float64"
      ]
     },
     "execution_count": 275,
     "metadata": {},
     "output_type": "execute_result"
    }
   ],
   "source": [
    "patient_results.salivaSwallowing"
   ]
  },
  {
   "cell_type": "code",
   "execution_count": 276,
   "metadata": {},
   "outputs": [
    {
     "name": "stdout",
     "output_type": "stream",
     "text": [
      "217    130\n",
      "Name: D18, dtype: int64\n",
      "217    7.0\n",
      "Name: mentalHealth, dtype: float64\n",
      "217    4.666667\n",
      "Name: salivaSwallowing, dtype: float64\n",
      "217    5.333333\n",
      "Name: breathing, dtype: float64\n",
      "217    7.0\n",
      "Name: appetite, dtype: float64\n",
      "217    5.171429\n",
      "Name: Physical_Total, dtype: float64\n"
     ]
    }
   ],
   "source": [
    "# DEFINING LATEST INPUT AND LAST INPUT - NEEDS TO BE CHANGED TO FORM INPUT\n",
    "today = patient_results[patient_results['DateofForm'] == '2016-01-01']\n",
    "last_submission = patient_results[patient_results['DateofForm'] == '2015-01-01']\n",
    "output_col = ['D18','mentalHealth', 'salivaSwallowing', 'breathing', 'appetite', 'Physical_Total']\n",
    "for col in output_col:\n",
    "    col_today = today[col]\n",
    "    print(col_today)\n",
    "\n"
   ]
  },
  {
   "cell_type": "code",
   "execution_count": 277,
   "metadata": {},
   "outputs": [
    {
     "name": "stdout",
     "output_type": "stream",
     "text": [
      "There has been a significant decrease in D18 results.\n",
      "There has been a significant increase in mentalHealth results.\n",
      "There has been a significant decrease in salivaSwallowing results.\n",
      "There has been a significant decrease in breathing results.\n",
      "There has been a significant increase in appetite results.\n",
      "There has been a significant decrease in Physical_Total results.\n"
     ]
    }
   ],
   "source": [
    "output_col = ['D18','mentalHealth', 'salivaSwallowing', 'breathing', 'appetite', 'Physical_Total']\n",
    "for col in output_col:\n",
    "    col_today = today[col]\n",
    "    col_last_sub = last_submission[col]\n",
    "    change = float(col_today) / float(col_last_sub)\n",
    "    if change >= 1.2:\n",
    "        print('There has been a significant increase in ' + str(col) + ' results.')\n",
    "    elif change <= 80:\n",
    "        print('There has been a significant decrease in '+ str(col) +  ' results.')\n"
   ]
  },
  {
   "cell_type": "markdown",
   "metadata": {},
   "source": [
    "## TO DO\n",
    " - Detecting change in the values of plus or minus 20%\n",
    " - Create the physical attribute testing fields\n",
    " - Physical_Fatigue_LL\tWasting_LL\tTwitching_LL\tCramping_LL\tWeakness_LL\tStiffness_LL\tPain_LL\n",
    " - Change output for 'today' point only\n",
    " \n",
    " - sign of the first symptom.. that is it went from 0 to something\n",
    " - \n",
    " "
   ]
  }
 ],
 "metadata": {
  "kernelspec": {
   "display_name": "Python 3",
   "language": "python",
   "name": "python3"
  },
  "language_info": {
   "codemirror_mode": {
    "name": "ipython",
    "version": 3
   },
   "file_extension": ".py",
   "mimetype": "text/x-python",
   "name": "python",
   "nbconvert_exporter": "python",
   "pygments_lexer": "ipython3",
   "version": "3.6.2"
  }
 },
 "nbformat": 4,
 "nbformat_minor": 2
}
