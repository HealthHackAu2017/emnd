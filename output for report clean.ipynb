{
 "cells": [
  {
   "cell_type": "code",
   "execution_count": 30,
   "metadata": {
    "collapsed": true
   },
   "outputs": [],
   "source": [
    "import pandas as pd\n",
    "import datetime"
   ]
  },
  {
   "cell_type": "code",
   "execution_count": 37,
   "metadata": {},
   "outputs": [],
   "source": [
    "data = {'d22b': 1, 'id': 18, 'd21f': 1, 'submission_date': \"datetime(2017, 11, 5, 4, 27, 30, 409102, tzinfo='UTC')\", \n",
    "        'd20d': 1, 'd21c': 1, 'd20b': 1, 'user_id_id': 1, 'd21e': 1, 'd22a': 1, 'd21b': 1, 'd20a': 1, 'd21a': 1, \n",
    "        'd21d': 1, 'd22c': 1, 'd20c': 1, 'd22b': 1}\n"
   ]
  },
  {
   "cell_type": "code",
   "execution_count": 38,
   "metadata": {},
   "outputs": [
    {
     "data": {
      "text/html": [
       "<div>\n",
       "<style>\n",
       "    .dataframe thead tr:only-child th {\n",
       "        text-align: right;\n",
       "    }\n",
       "\n",
       "    .dataframe thead th {\n",
       "        text-align: left;\n",
       "    }\n",
       "\n",
       "    .dataframe tbody tr th {\n",
       "        vertical-align: top;\n",
       "    }\n",
       "</style>\n",
       "<table border=\"1\" class=\"dataframe\">\n",
       "  <thead>\n",
       "    <tr style=\"text-align: right;\">\n",
       "      <th></th>\n",
       "      <th>d20a</th>\n",
       "      <th>d20b</th>\n",
       "      <th>d20c</th>\n",
       "      <th>d20d</th>\n",
       "      <th>d21a</th>\n",
       "      <th>d21b</th>\n",
       "      <th>d21c</th>\n",
       "      <th>d21d</th>\n",
       "      <th>d21e</th>\n",
       "      <th>d21f</th>\n",
       "      <th>d22a</th>\n",
       "      <th>d22b</th>\n",
       "      <th>d22c</th>\n",
       "      <th>id</th>\n",
       "      <th>submission_date</th>\n",
       "      <th>user_id_id</th>\n",
       "    </tr>\n",
       "  </thead>\n",
       "  <tbody>\n",
       "    <tr>\n",
       "      <th>0</th>\n",
       "      <td>1</td>\n",
       "      <td>1</td>\n",
       "      <td>1</td>\n",
       "      <td>1</td>\n",
       "      <td>1</td>\n",
       "      <td>1</td>\n",
       "      <td>1</td>\n",
       "      <td>1</td>\n",
       "      <td>1</td>\n",
       "      <td>1</td>\n",
       "      <td>1</td>\n",
       "      <td>1</td>\n",
       "      <td>1</td>\n",
       "      <td>18</td>\n",
       "      <td>datetime(2017, 11, 5, 4, 27, 30, 409102, tzinf...</td>\n",
       "      <td>1</td>\n",
       "    </tr>\n",
       "  </tbody>\n",
       "</table>\n",
       "</div>"
      ],
      "text/plain": [
       "   d20a  d20b  d20c  d20d  d21a  d21b  d21c  d21d  d21e  d21f  d22a  d22b  \\\n",
       "0     1     1     1     1     1     1     1     1     1     1     1     1   \n",
       "\n",
       "   d22c  id                                    submission_date  user_id_id  \n",
       "0     1  18  datetime(2017, 11, 5, 4, 27, 30, 409102, tzinf...           1  "
      ]
     },
     "execution_count": 38,
     "metadata": {},
     "output_type": "execute_result"
    }
   ],
   "source": [
    "patient_results = pd.DataFrame([data])\n",
    "patient_results"
   ]
  },
  {
   "cell_type": "code",
   "execution_count": 43,
   "metadata": {
    "scrolled": true
   },
   "outputs": [
    {
     "data": {
      "text/plain": [
       "{'Overall_Health': [6.111111111111111],\n",
       " 'd20': [3.0],\n",
       " 'd21': [6.333333333333333],\n",
       " 'd22': [9.0]}"
      ]
     },
     "execution_count": 43,
     "metadata": {},
     "output_type": "execute_result"
    }
   ],
   "source": [
    "today = patient_results['submission_date'].max()\n",
    "if len(data) == 1:\n",
    "    patient_subset = patient_results[(patient_results['submission_date'] != today)]\n",
    "    last_submission = patient_subset['submission_date'].max()\n",
    "else:\n",
    "    last_submission = today\n",
    "    \n",
    "patient_results['d20'] = (patient_results.d20a + patient_results.d20b + \n",
    "                                   (10.0 - patient_results.d20c) + patient_results.d20d)/4.0\n",
    "\n",
    "patient_results['d21'] = (patient_results.d21a + (10.0 - patient_results.d21b) + \n",
    "                                       (10.0 - patient_results.d21c) + (10.0 - patient_results.d21d) + \n",
    "                                       patient_results.d21e + (10.0 - patient_results.d21f))/6.0\n",
    "patient_results['d22'] = ((10.0 - patient_results.d22a) + (10.0 - patient_results.d22b) +\n",
    "                                (10.0 - patient_results.d22c))/3.0\n",
    "patient_results['Overall_Health'] = (patient_results.d20 + patient_results.d21 + \n",
    "                                     patient_results.d22)/3.0\n",
    "output = patient_results[['d20','d21','d22','Overall_Health']]\n",
    "\n",
    "output.to_dict('list')"
   ]
  },
  {
   "cell_type": "code",
   "execution_count": 24,
   "metadata": {
    "collapsed": true
   },
   "outputs": [],
   "source": [
    "output = patient_results[['mentalHealth','salivaSwallowing','breathing','Overall_Health']]"
   ]
  },
  {
   "cell_type": "code",
   "execution_count": 25,
   "metadata": {},
   "outputs": [
    {
     "data": {
      "text/html": [
       "<div>\n",
       "<style>\n",
       "    .dataframe thead tr:only-child th {\n",
       "        text-align: right;\n",
       "    }\n",
       "\n",
       "    .dataframe thead th {\n",
       "        text-align: left;\n",
       "    }\n",
       "\n",
       "    .dataframe tbody tr th {\n",
       "        vertical-align: top;\n",
       "    }\n",
       "</style>\n",
       "<table border=\"1\" class=\"dataframe\">\n",
       "  <thead>\n",
       "    <tr style=\"text-align: right;\">\n",
       "      <th></th>\n",
       "      <th>mentalHealth</th>\n",
       "      <th>salivaSwallowing</th>\n",
       "      <th>breathing</th>\n",
       "      <th>Overall_Health</th>\n",
       "    </tr>\n",
       "  </thead>\n",
       "  <tbody>\n",
       "    <tr>\n",
       "      <th>0</th>\n",
       "      <td>3.0</td>\n",
       "      <td>6.333333</td>\n",
       "      <td>9.5</td>\n",
       "      <td>6.277778</td>\n",
       "    </tr>\n",
       "  </tbody>\n",
       "</table>\n",
       "</div>"
      ],
      "text/plain": [
       "   mentalHealth  salivaSwallowing  breathing  Overall_Health\n",
       "0           3.0          6.333333        9.5        6.277778"
      ]
     },
     "execution_count": 25,
     "metadata": {},
     "output_type": "execute_result"
    }
   ],
   "source": [
    "output"
   ]
  },
  {
   "cell_type": "code",
   "execution_count": 27,
   "metadata": {},
   "outputs": [
    {
     "data": {
      "text/plain": [
       "{'Overall_Health': [6.277777777777778],\n",
       " 'breathing': [9.5],\n",
       " 'mentalHealth': [3.0],\n",
       " 'salivaSwallowing': [6.333333333333333]}"
      ]
     },
     "execution_count": 27,
     "metadata": {},
     "output_type": "execute_result"
    }
   ],
   "source": [
    "output.to_dict('list')"
   ]
  }
 ],
 "metadata": {
  "kernelspec": {
   "display_name": "Python 3",
   "language": "python",
   "name": "python3"
  },
  "language_info": {
   "codemirror_mode": {
    "name": "ipython",
    "version": 3
   },
   "file_extension": ".py",
   "mimetype": "text/x-python",
   "name": "python",
   "nbconvert_exporter": "python",
   "pygments_lexer": "ipython3",
   "version": "3.6.2"
  }
 },
 "nbformat": 4,
 "nbformat_minor": 2
}
