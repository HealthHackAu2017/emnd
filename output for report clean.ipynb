{
 "cells": [
  {
   "cell_type": "code",
   "execution_count": 7,
   "metadata": {
    "collapsed": true
   },
   "outputs": [],
   "source": [
    "import pandas as pd"
   ]
  },
  {
   "cell_type": "code",
   "execution_count": 8,
   "metadata": {
    "collapsed": true
   },
   "outputs": [],
   "source": [
    "data = {'id': 10, 'submission_date': '2017-11-05T03:47:25.239057Z', 'd21e': 1, 'd21c': 1, 'd20b': 1, 'd21a': 1, 'd20c': 1, \n",
    "        'user_id': 1, 'd21b': 1, 'd20a': 1, 'd20d': 1, 'd22a': 1, 'd21f': 1, 'd22c': 0, 'd21d': 1}\n"
   ]
  },
  {
   "cell_type": "code",
   "execution_count": 14,
   "metadata": {},
   "outputs": [
    {
     "data": {
      "text/html": [
       "<div>\n",
       "<style>\n",
       "    .dataframe thead tr:only-child th {\n",
       "        text-align: right;\n",
       "    }\n",
       "\n",
       "    .dataframe thead th {\n",
       "        text-align: left;\n",
       "    }\n",
       "\n",
       "    .dataframe tbody tr th {\n",
       "        vertical-align: top;\n",
       "    }\n",
       "</style>\n",
       "<table border=\"1\" class=\"dataframe\">\n",
       "  <thead>\n",
       "    <tr style=\"text-align: right;\">\n",
       "      <th></th>\n",
       "      <th>d20a</th>\n",
       "      <th>d20b</th>\n",
       "      <th>d20c</th>\n",
       "      <th>d20d</th>\n",
       "      <th>d21a</th>\n",
       "      <th>d21b</th>\n",
       "      <th>d21c</th>\n",
       "      <th>d21d</th>\n",
       "      <th>d21e</th>\n",
       "      <th>d21f</th>\n",
       "      <th>d22a</th>\n",
       "      <th>d22c</th>\n",
       "      <th>id</th>\n",
       "      <th>submission_date</th>\n",
       "      <th>user_id</th>\n",
       "    </tr>\n",
       "  </thead>\n",
       "  <tbody>\n",
       "    <tr>\n",
       "      <th>0</th>\n",
       "      <td>1</td>\n",
       "      <td>1</td>\n",
       "      <td>1</td>\n",
       "      <td>1</td>\n",
       "      <td>1</td>\n",
       "      <td>1</td>\n",
       "      <td>1</td>\n",
       "      <td>1</td>\n",
       "      <td>1</td>\n",
       "      <td>1</td>\n",
       "      <td>1</td>\n",
       "      <td>0</td>\n",
       "      <td>10</td>\n",
       "      <td>2017-11-05T03:47:25.239057Z</td>\n",
       "      <td>1</td>\n",
       "    </tr>\n",
       "  </tbody>\n",
       "</table>\n",
       "</div>"
      ],
      "text/plain": [
       "   d20a  d20b  d20c  d20d  d21a  d21b  d21c  d21d  d21e  d21f  d22a  d22c  id  \\\n",
       "0     1     1     1     1     1     1     1     1     1     1     1     0  10   \n",
       "\n",
       "               submission_date  user_id  \n",
       "0  2017-11-05T03:47:25.239057Z        1  "
      ]
     },
     "execution_count": 14,
     "metadata": {},
     "output_type": "execute_result"
    }
   ],
   "source": [
    "patient_results = pd.DataFrame([data])\n",
    "patient_results"
   ]
  },
  {
   "cell_type": "code",
   "execution_count": 18,
   "metadata": {},
   "outputs": [],
   "source": [
    "today = patient_results['submission_date'].max()\n",
    "if len(data) == 1:\n",
    "    patient_subset = patient_results[(patient_results['submission_date'] != today)]\n",
    "    last_submission = patient_subset['TimeStamp'].max()\n",
    "else:\n",
    "    last_submission = today\n",
    "    \n",
    "patient_results['mentalHealth'] = (patient_results.d20a + patient_results.d20b + \n",
    "                                   (10 - patient_results.d20c) + patient_results.d20d)/4\n",
    "\n",
    "patient_results['salivaSwallowing'] = (patient_results.d21a + (10 - patient_results.d21b) + \n",
    "                                       (10 - patient_results.d21c) + (10 - patient_results.d21d) + \n",
    "                                       patient_results.d21e + (10 - patient_results.d21f))/6\n",
    "patient_results['breathing'] = ((10 - patient_results.d22a) + \n",
    "                                (10 - patient_results.d22c))/2\n",
    "patient_results['Overall_Health'] = (patient_results.mentalHealth + patient_results.salivaSwallowing + \n",
    "                                     patient_results.breathing)/3"
   ]
  },
  {
   "cell_type": "code",
   "execution_count": null,
   "metadata": {
    "collapsed": true
   },
   "outputs": [],
   "source": []
  }
 ],
 "metadata": {
  "kernelspec": {
   "display_name": "Python 3",
   "language": "python",
   "name": "python3"
  },
  "language_info": {
   "codemirror_mode": {
    "name": "ipython",
    "version": 3
   },
   "file_extension": ".py",
   "mimetype": "text/x-python",
   "name": "python",
   "nbconvert_exporter": "python",
   "pygments_lexer": "ipython3",
   "version": "3.6.2"
  }
 },
 "nbformat": 4,
 "nbformat_minor": 2
}
